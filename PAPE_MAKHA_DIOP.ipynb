{
 "cells": [
  {
   "cell_type": "markdown",
   "metadata": {},
   "source": [
    "# Evaluation\n",
    "                        ## Novembre 2020"
   ]
  },
  {
   "cell_type": "markdown",
   "metadata": {},
   "source": [
    "#### Problème 1 : Carré\n",
    "Ecrire une fonction en python qui demande un nombre à l'utilisateur et qui affiche le carré de\n",
    "ce nombre."
   ]
  },
  {
   "cell_type": "code",
   "execution_count": null,
   "metadata": {},
   "outputs": [],
   "source": [
    "a=input(\"entrez un nombre \") \n",
    "a=int(a)\n",
    "print(a*a) "
   ]
  },
  {
   "cell_type": "markdown",
   "metadata": {},
   "source": [
    "####  Problème 2 : Produit\n",
    "Ecrire une fonction en python qui prend deux nombres et informe en suite si leur produit est\n",
    "négatif ou positif ou nul. Attention : il n'est pas nécessaire de renvoyer le produit des deux\n",
    "nombres."
   ]
  },
  {
   "cell_type": "code",
   "execution_count": null,
   "metadata": {},
   "outputs": [],
   "source": [
    "a = input('Entrez un nombre :')\n",
    "b = input('Entrez un autre nombre :')\n",
    "\n",
    "A,B = int(a), int(b)\n",
    "\n",
    "if A < 0 or B < 0 :\n",
    "  print('Le produit est négatif')\n",
    "\n",
    "elif A == 0 or B == 0 :\n",
    "  print('Le produit est égal à 0')\n",
    "else :\n",
    "  print('Le produit est positif')\n",
    "    \n"
   ]
  },
  {
   "cell_type": "markdown",
   "metadata": {},
   "source": [
    "#####  Problème 3 : Somme\n",
    "Ecrire une fonction en python qui prend un nombre de départ disons k, et qui calcule la\n",
    "somme des entiers jusqu’à ce nombre, noté Σ􀯞􀬾􀬵􀬴 𝑖\n",
    "􀯜􀭀􀯞 . Par exemple, si k = 5, la fonction doit\n",
    "renvoyer : 15."
   ]
  },
  {
   "cell_type": "code",
   "execution_count": null,
   "metadata": {},
   "outputs": [],
   "source": [
    "a = input('Entrez un nombre')\n",
    "A = int(a)\n",
    "\n",
    "somme = 0\n",
    "\n",
    "for i in range(A+1):\n",
    "  somme += i\n",
    "print(somme)"
   ]
  },
  {
   "cell_type": "markdown",
   "metadata": {},
   "source": [
    "##### Problème 4 : FacProduct\n",
    "Ecrire un algorithme qui, à partir de deux tableaux précédemment saisis calcule le\n",
    "'FacProduct' des deux tableaux. Pour calculer le 'FacProduct', il faut multiplier chaque\n",
    "élément du tableau1 par chaque élément du tableau2, et additionner le tout.\n",
    "Par exemple, soient deux tableaux l1; l2, où l1 = [1; 2; 3] et l2 = [1; 2] l'algorithme doit\n",
    "renvoyer 18."
   ]
  },
  {
   "cell_type": "code",
   "execution_count": null,
   "metadata": {},
   "outputs": [],
   "source": [
    "from random import randint\n",
    "tableau1 = [randint(0,20) for _ in range(5)]\n",
    "tableau2 = [randint(0,20) for _ in range(5)]\n",
    "\n",
    "result = 0\n",
    "\n",
    "if len(tableau1) == len(tableau2) :\n",
    "  for i in tableau1:\n",
    "    for j in tableau2:\n",
    "      a = tableau1[i-1]*tableau2[j-1] \n",
    "      result += a\n",
    "\n",
    "  print(result)"
   ]
  },
  {
   "cell_type": "markdown",
   "metadata": {},
   "source": [
    "#### Problème 5 : Minimum\n",
    "Ecrire un algorithme retournant le minimum d'un tableau donné."
   ]
  },
  {
   "cell_type": "code",
   "execution_count": null,
   "metadata": {},
   "outputs": [],
   "source": [
    "tailleListe = int(input('Entrez la taille de la liste'))\n",
    "liste = [0]*tailleListe\n",
    "for i in range(tailleListe):\n",
    "  liste[i] = int(input('Entrer une valeur pour le tableau'))\n",
    "print(liste)\n",
    "\n",
    "min = liste[0]\n",
    "for i in range(tailleListe):\n",
    "  if liste[i]<min :\n",
    "    min = liste[i]\n",
    "  print('La valeur minimal est :' + str(max))"
   ]
  },
  {
   "cell_type": "markdown",
   "metadata": {},
   "source": [
    "#### Problème 7 : Carré & listes\n",
    "Ecrire un algorithme qui prend une liste en entré et qui renvoie une liste contenant le carré de\n",
    "chaque élément de la liste passée en entré. Veuillez utiliser la fonction définie dans le\n",
    "problème 1."
   ]
  },
  {
   "cell_type": "code",
   "execution_count": null,
   "metadata": {},
   "outputs": [],
   "source": [
    "def prob(list:l):\n",
    "    for i in l:\n",
    "        print(i**2)"
   ]
  },
  {
   "cell_type": "markdown",
   "metadata": {},
   "source": [
    "### Problème 8 : Valeur du plus petit doublon\n",
    "Ecrire un algorithme qui donne la valeur du premier doublon dans une liste.\n",
    "Par exemple pour la liste l = [1; 2; 3; 6; 5; 3; 7; 2] l'algorithme sortira 3."
   ]
  },
  {
   "cell_type": "code",
   "execution_count": null,
   "metadata": {},
   "outputs": [],
   "source": [
    "def probléme(list:l):\n",
    "    print(min(set([x for x in l if l.count(x) > 1])))"
   ]
  },
  {
   "cell_type": "markdown",
   "metadata": {},
   "source": [
    "##### Problème 9 : Multiplication matricielle\n",
    "En cours, nous avons vu les matrices, nous avons vu aussi les opérations mathématiques que\n",
    "nous pouvons effectuer sur ces objets.\n",
    "Ecrire un algorithme qui fait la multiplication entre deux matrice carré A et B. Le produit de\n",
    "deux matrices,\n",
    "𝐴 = 􁉀\n",
    "1 2\n",
    "3 4\n",
    "􁉁 et une matrice 𝐵 = 􁉀\n",
    "1 3\n",
    "2 4\n",
    "􁉁 est tel que (𝐴. 𝐵) = 􁉀\n",
    "5 11\n",
    "11 5\n",
    "􁉁"
   ]
  },
  {
   "cell_type": "code",
   "execution_count": null,
   "metadata": {},
   "outputs": [],
   "source": [
    "import numpy as np\n",
    "A=[[1,2],[3,4]]\n",
    "B=[[1,3],[2,4]]\n",
    "print(np.dot(A,B))"
   ]
  },
  {
   "cell_type": "markdown",
   "metadata": {},
   "source": [
    "#### Problème 10 : POO\n",
    "Expliquer ce qu'est la programmation orientée objet, le concept d'héritage, de\n",
    "polymorphisme ainsi que la différence avec la programmation dite plus \"classique\" et donner\n",
    "des exemples."
   ]
  },
  {
   "cell_type": "code",
   "execution_count": null,
   "metadata": {},
   "outputs": [],
   "source": [
    "Un programme POO construit des objets.\n",
    "Chaque objet associe des données (aussi appelées champs, variables, attributs) et des\n",
    "méthodes (rarement appelées procédures, fonctions) agissant exclusivement sur les\n",
    "données de l'objet.\n",
    "\n",
    "Une classe est une description d'un ensemble d'objets ayant une structure de\n",
    "données commune et disposant des mêmes méthodes.\n",
    "\n",
    "L'héritage permet de définir une nouvelle classe (une sous- classe) à partir d'une\n",
    "classe existante (super- classe, classe-mère) à laquelle on ajoute de nouvelles données, de\n",
    "nouvelles méthodes\n",
    "\n",
    "Il permet à des méthodes (des fonctions) différentes dans des classes différentes\n",
    "d'avoir le même nom.\n",
    "Il permet d'économiser des identificateurs de fonctions (lisibilité)."
   ]
  }
 ],
 "metadata": {
  "kernelspec": {
   "display_name": "Python 3",
   "language": "python",
   "name": "python3"
  },
  "language_info": {
   "codemirror_mode": {
    "name": "ipython",
    "version": 3
   },
   "file_extension": ".py",
   "mimetype": "text/x-python",
   "name": "python",
   "nbconvert_exporter": "python",
   "pygments_lexer": "ipython3",
   "version": "3.8.3"
  }
 },
 "nbformat": 4,
 "nbformat_minor": 4
}
